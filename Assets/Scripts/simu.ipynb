{
 "cells": [
  {
   "cell_type": "code",
   "execution_count": 27,
   "metadata": {},
   "outputs": [],
   "source": [
    "import seaborn as sns\n",
    "import pandas as pd\n",
    "import matplotlib.pyplot as plt\n",
    "import numpy as np\n",
    "import statsmodels.api as sm\n",
    "\n",
    "class QLearningModule:\n",
    "    def __init__(self, lr, rl_temp, n_states, n_actions, q0, *args, **kwargs):\n",
    "        super().__init__(*args, **kwargs)\n",
    "        self.lr = lr\n",
    "        self.rl_temp = rl_temp\n",
    "        self.q = np.ones((n_states, n_actions)) * q0\n",
    "    \n",
    "    def rl_learn(self, s, a, r):\n",
    "        self.q[s, a] += self.lr * (r - self.q[s, a])\n",
    "\n",
    "\n",
    "class PerceptualModule:\n",
    "    def __init__(self, perceptual_temp, *args, **kwargs):\n",
    "        super().__init__(*args, **kwargs)\n",
    "        self.perceptual_temp = perceptual_temp\n",
    "    \n",
    "    def get_p_destroy(self, hist_s, hist_r, s1, s2):\n",
    "        if len(hist_s) == 0:\n",
    "            return [0.5, 0.5]\n",
    "\n",
    "        return sm.Logit(hist_r, sm.add_constant(hist_s))\\\n",
    "                .fit().predict(sm.add_constant(np.unique(hist_s)))[[s1, s2]]\n",
    "    \n",
    "    def get_params(self, s, r):\n",
    "        return sm.Logit(r, s).fit().params\n",
    "    \n",
    "\n",
    "class HybridModel(QLearningModule, PerceptualModule):\n",
    "    def __init__(self, *args, **kwargs):\n",
    "        super().__init__(*args, **kwargs)\n",
    "    \n",
    "    def make_choice(self, sr, hist_sp, hist_rp, sp1, sp2):\n",
    "        Q = np.exp(\n",
    "            (self.q[sr, :] * self.rl_temp)\n",
    "             * (self.get_p_destroy(hist_sp, hist_rp, sp1, sp2)\n",
    "             * self.perceptual_temp\n",
    "             ))\n",
    "        print(self.get_p_destroy(hist_sp, hist_rp, sp1, sp2))\n",
    "        p = Q / np.sum(Q)\n",
    "        return np.random.choice(np.arange(2), p=p)\n",
    "\n",
    "        \n",
    "h = HybridModel(lr=1, rl_temp=5, perceptual_temp=5, n_states=2, n_actions=2, q0=50)"
   ]
  },
  {
   "cell_type": "code",
   "execution_count": 28,
   "metadata": {},
   "outputs": [
    {
     "name": "stdout",
     "output_type": "stream",
     "text": [
      "Optimization terminated successfully.\n",
      "         Current function value: 0.360511\n",
      "         Iterations 7\n"
     ]
    }
   ],
   "source": [
    "# perceptual training\n",
    "# -----------------------------------------------------------------\n",
    "n_perceptual_trials_per_color = 8\n",
    "# states (colors coded by real probability of destroying the target)\n",
    "sp = np.array(\n",
    "    [np.linspace(0, 1, 10).round(1) for _ in range(n_perceptual_trials_per_color)]\n",
    "    ).flatten()\n",
    "# rewards (1 if target destroyed, 0 otherwise), using the real probabilities in s\n",
    "rp = np.array(\n",
    "    [np.random.binomial(1, sp[i]) for i in range(len(sp))]\n",
    "    ).flatten()\n",
    "# s.shape, r.shape\n",
    "\n",
    "x = np.unique(sp*10)\n",
    "y = h.get_p_destroy(sp*10, rp, 6, 2)\n",
    "\n",
    "# sns.lineplot(x, y)"
   ]
  },
  {
   "cell_type": "code",
   "execution_count": 29,
   "metadata": {},
   "outputs": [
    {
     "name": "stdout",
     "output_type": "stream",
     "text": [
      "Optimization terminated successfully.\n",
      "         Current function value: 0.360511\n",
      "         Iterations 7\n",
      "Optimization terminated successfully.\n",
      "         Current function value: 0.360511\n",
      "         Iterations 7\n",
      "[0.07750835 0.07750835]\n",
      "Optimization terminated successfully.\n",
      "         Current function value: 0.357043\n",
      "         Iterations 7\n",
      "Optimization terminated successfully.\n",
      "         Current function value: 0.357043\n",
      "         Iterations 7\n",
      "[0.25559942 0.59046108]\n"
     ]
    },
    {
     "name": "stderr",
     "output_type": "stream",
     "text": [
      "C:\\Users\\basil\\AppData\\Local\\Temp\\ipykernel_17432\\35913219.py:39: RuntimeWarning: overflow encountered in exp\n",
      "  Q = np.exp(\n",
      "C:\\Users\\basil\\AppData\\Local\\Temp\\ipykernel_17432\\35913219.py:45: RuntimeWarning: invalid value encountered in divide\n",
      "  p = Q / np.sum(Q)\n"
     ]
    },
    {
     "ename": "ValueError",
     "evalue": "probabilities contain NaN",
     "output_type": "error",
     "traceback": [
      "\u001b[1;31m---------------------------------------------------------------------------\u001b[0m",
      "\u001b[1;31mValueError\u001b[0m                                Traceback (most recent call last)",
      "\u001b[1;32mc:\\Users\\basil\\CodeProjects\\Unity\\SpaceRLUnity\\Assets\\Scripts\\simu.ipynb Cell 3\u001b[0m in \u001b[0;36m2\n\u001b[0;32m     <a href='vscode-notebook-cell:/c%3A/Users/basil/CodeProjects/Unity/SpaceRLUnity/Assets/Scripts/simu.ipynb#W3sZmlsZQ%3D%3D?line=22'>23</a>\u001b[0m sp1 \u001b[39m=\u001b[39m ff1[t]\n\u001b[0;32m     <a href='vscode-notebook-cell:/c%3A/Users/basil/CodeProjects/Unity/SpaceRLUnity/Assets/Scripts/simu.ipynb#W3sZmlsZQ%3D%3D?line=23'>24</a>\u001b[0m sp2 \u001b[39m=\u001b[39m ff2[t]\n\u001b[1;32m---> <a href='vscode-notebook-cell:/c%3A/Users/basil/CodeProjects/Unity/SpaceRLUnity/Assets/Scripts/simu.ipynb#W3sZmlsZQ%3D%3D?line=25'>26</a>\u001b[0m a \u001b[39m=\u001b[39m h\u001b[39m.\u001b[39mmake_choice(sr, hist_sp, hist_rp, \u001b[39mint\u001b[39m(sp1), \u001b[39mint\u001b[39m(sp2))\n\u001b[0;32m     <a href='vscode-notebook-cell:/c%3A/Users/basil/CodeProjects/Unity/SpaceRLUnity/Assets/Scripts/simu.ipynb#W3sZmlsZQ%3D%3D?line=26'>27</a>\u001b[0m r \u001b[39m=\u001b[39m np\u001b[39m.\u001b[39mrandom\u001b[39m.\u001b[39mnormal(conditions[sr][a], std) \n\u001b[0;32m     <a href='vscode-notebook-cell:/c%3A/Users/basil/CodeProjects/Unity/SpaceRLUnity/Assets/Scripts/simu.ipynb#W3sZmlsZQ%3D%3D?line=27'>28</a>\u001b[0m chosen \u001b[39m=\u001b[39m sp1 \u001b[39mif\u001b[39;00m a \u001b[39m==\u001b[39m \u001b[39m0\u001b[39m \u001b[39melse\u001b[39;00m sp2\n",
      "\u001b[1;32mc:\\Users\\basil\\CodeProjects\\Unity\\SpaceRLUnity\\Assets\\Scripts\\simu.ipynb Cell 3\u001b[0m in \u001b[0;36m4\n\u001b[0;32m     <a href='vscode-notebook-cell:/c%3A/Users/basil/CodeProjects/Unity/SpaceRLUnity/Assets/Scripts/simu.ipynb#W3sZmlsZQ%3D%3D?line=43'>44</a>\u001b[0m \u001b[39mprint\u001b[39m(\u001b[39mself\u001b[39m\u001b[39m.\u001b[39mget_p_destroy(hist_sp, hist_rp, sp1, sp2))\n\u001b[0;32m     <a href='vscode-notebook-cell:/c%3A/Users/basil/CodeProjects/Unity/SpaceRLUnity/Assets/Scripts/simu.ipynb#W3sZmlsZQ%3D%3D?line=44'>45</a>\u001b[0m p \u001b[39m=\u001b[39m Q \u001b[39m/\u001b[39m np\u001b[39m.\u001b[39msum(Q)\n\u001b[1;32m---> <a href='vscode-notebook-cell:/c%3A/Users/basil/CodeProjects/Unity/SpaceRLUnity/Assets/Scripts/simu.ipynb#W3sZmlsZQ%3D%3D?line=45'>46</a>\u001b[0m \u001b[39mreturn\u001b[39;00m np\u001b[39m.\u001b[39;49mrandom\u001b[39m.\u001b[39;49mchoice(np\u001b[39m.\u001b[39;49marange(\u001b[39m2\u001b[39;49m), p\u001b[39m=\u001b[39;49mp)\n",
      "File \u001b[1;32mmtrand.pyx:935\u001b[0m, in \u001b[0;36mnumpy.random.mtrand.RandomState.choice\u001b[1;34m()\u001b[0m\n",
      "\u001b[1;31mValueError\u001b[0m: probabilities contain NaN"
     ]
    }
   ],
   "source": [
    "# -----------------------------------------------------------------\n",
    "# Full\n",
    "# -----------------------------------------------------------------\n",
    "conditions = [\n",
    "    [60, 40],\n",
    "    [90, 10]\n",
    "]\n",
    "std = 5\n",
    "\n",
    "n_trials_per_condition = 50\n",
    "conditions_idx = np.repeat(np.arange(len(conditions)), n_trials_per_condition)\n",
    "ff1 = np.random.uniform(0, 9, n_trials_per_condition*2).round()\n",
    "ff2 = np.random.uniform(0, 9, n_trials_per_condition*2).round()\n",
    "\n",
    "ntrials = len(conditions_idx)\n",
    "hist_sp = list(sp*10)\n",
    "hist_rp = list(rp)\n",
    "\n",
    "for t in range(ntrials):\n",
    "\n",
    "    sr = conditions_idx[t]\n",
    "\n",
    "    sp1 = ff1[t]\n",
    "    sp2 = ff2[t]\n",
    "    \n",
    "    a = h.make_choice(sr, hist_sp, hist_rp, int(sp1), int(sp2))\n",
    "    r = np.random.normal(conditions[sr][a], std) \n",
    "    chosen = sp1 if a == 0 else sp2\n",
    "    rp = np.random.random() < chosen/10\n",
    "    h.rl_learn(sr, a, r)\n",
    "\n",
    "    # add chosen ff to history\n",
    "    hist_sp.append(chosen)\n",
    "    hist_rp.append(rp)\n",
    "\n"
   ]
  }
 ],
 "metadata": {
  "kernelspec": {
   "display_name": "Python 3.8.10 64-bit",
   "language": "python",
   "name": "python3"
  },
  "language_info": {
   "codemirror_mode": {
    "name": "ipython",
    "version": 3
   },
   "file_extension": ".py",
   "mimetype": "text/x-python",
   "name": "python",
   "nbconvert_exporter": "python",
   "pygments_lexer": "ipython3",
   "version": "3.10.7"
  },
  "orig_nbformat": 4,
  "vscode": {
   "interpreter": {
    "hash": "31f2aee4e71d21fbe5cf8b01ff0e069b9275f58929596ceb00d14d90e3e16cd6"
   }
  }
 },
 "nbformat": 4,
 "nbformat_minor": 2
}
