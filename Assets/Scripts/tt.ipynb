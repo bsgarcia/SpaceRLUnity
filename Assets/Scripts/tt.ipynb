{
 "cells": [
  {
   "cell_type": "code",
   "execution_count": 7,
   "metadata": {},
   "outputs": [
    {
     "data": {
      "text/plain": [
       "'{\"test\": 1}'"
      ]
     },
     "execution_count": 7,
     "metadata": {},
     "output_type": "execute_result"
    }
   ],
   "source": [
    "import json\n",
    "\n",
    "string = '{\\\"t\\\": \\\"0\\\" ,\\\"choice\\\": \\\"2\\\" ,\\\"outcome\\\": \\\"0\\\" ,\\\"rt\\\": \\\"1678\\\" ,\\\"choseLeft\\\": \\\"0\\\" ,\\\"prolificID\\\": \\\"test\\\"}'\n",
    "# add a slash before each double quote\n",
    "string = string.replace('\"', '\\\\\"')\n",
    "\n",
    "# convert to json\n",
    "# json_string = json.loads(string)\n",
    "# print(json_string)\n",
    "json.dumps({'test': 1})"
   ]
  }
 ],
 "metadata": {
  "kernelspec": {
   "display_name": "Python 3",
   "language": "python",
   "name": "python3"
  },
  "language_info": {
   "codemirror_mode": {
    "name": "ipython",
    "version": 3
   },
   "file_extension": ".py",
   "mimetype": "text/x-python",
   "name": "python",
   "nbconvert_exporter": "python",
   "pygments_lexer": "ipython3",
   "version": "3.10.7"
  }
 },
 "nbformat": 4,
 "nbformat_minor": 2
}
